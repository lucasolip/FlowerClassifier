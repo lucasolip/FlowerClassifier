{
  "nbformat": 4,
  "nbformat_minor": 0,
  "metadata": {
    "colab": {
      "name": "Trabajo Redes Neuronales FSI.ipynb",
      "provenance": [],
      "collapsed_sections": []
    },
    "kernelspec": {
      "name": "python3",
      "display_name": "Python 3"
    },
    "language_info": {
      "name": "python"
    },
    "accelerator": "GPU"
  },
  "cells": [
    {
      "cell_type": "markdown",
      "metadata": {
        "id": "Dd32DMs_z932"
      },
      "source": [
        "#Clasificador de flores\n",
        "\n",
        "En este trabajo hemos construido un clasificador de imágenes de flores usando una red neuronal convolutiva"
      ]
    },
    {
      "cell_type": "code",
      "metadata": {
        "id": "d2TnihATLSvz"
      },
      "source": [
        "from google.colab import drive\n",
        "drive.mount('/content/gdrive')"
      ],
      "execution_count": null,
      "outputs": []
    },
    {
      "cell_type": "markdown",
      "metadata": {
        "id": "g7h7TB1fu-oJ"
      },
      "source": [
        "Probando distintos tamaños de capas y configuraciones reflejados en la siguiente tabla. Tratamos siempre que los hiperparámetros sean potencias o múltiplos de 2, para facilitar los cálculos al ordenador. Para todos los modelos hemos usado 80 epochs y early stopping con 6 epochs de paciencia.  \n",
        "Todos los modelos dan resultados relativamente buenos. Nos quedamos con el modelo que mejor resultado nos ha dado\n",
        "\n",
        "| Convolutiva <br>+ MaxPooling2D | Convolutiva <br>+ MaxPooling2D | Convolutiva <br>+ MaxPooling2D | Convolutiva<br>+ MaxPooling2D | Dropout | Flatten | Dense | Dropout | Otros hiperparámetros | Precisión |\n",
        "|:-:|:-:|-|-|-|-|-|-|-|-|\n",
        "| 32 filtros 3x3 | 64 filtros 3x3 | 96 filtros 3x3 | 96 filtros 3x3 | 0.25 |  | 512 | 0.5 | learning rate = 0.001<br>batch_size = 64<br>img_size = 256 | 0.81 |\n",
        "| 32 filtros 3x3 | 64 filtros 5x5 | 96 filtros 7x7 | - | 0.25 |  | 512 | 0.5 | learning rate = 0.001<br>batch size = 64<br>img size = 128 | 0.80 |\n",
        "| 32 filtros 3x3 | 64 filtros 3x3 | 96 filtros 3x3 | - | 0.25 |  | 256 | 0.5 | learning rate = 0.001<br>batch_size = 32<br>img_size = 256 | 0.77 |\n",
        "| 32 filtros 3x3 | 64 filtros 3x3 | 96 filtros 3x3 | - | 0.25 |  | 256 | 0.5 | learning rate = 0.001<br>batch_size = 32<br>img_size = 128 | 0.75 |\n",
        "| 32 filtros 3x3 | 64 filtros 5x5 | 96 filtros 7x7 | 96 filtros 9x9 | 0.25 |  | 512 | 0.5 | learning rate = 0.001<br>batch size = 64<br>img size = 256 | 0.75 |\n",
        "| 32 filtros 3x3 | 64 filtros 3x3 | - | - | 0.25 |  | 128 | 0.5 | learning rate = 0.001<br>batch size = 64<br>img size = 256 | 0.69 |\n",
        "| 32 filtros 3x3 | 64 filtros 3x3 | - | - | 0.25 |  | 128 | 0.5 | learning rate = 0.001<br>batch size = 64<br>img size = 128 | 0.69 |\n",
        "\n",
        "\n"
      ]
    },
    {
      "cell_type": "markdown",
      "metadata": {
        "id": "YnpQ7EdYpOdU"
      },
      "source": [
        "En la siguiente celda preparamos el dataset con data augmentation e identificamos el orden que van a tener las clases de salida para confeccionar más adelante la matriz de confusión:"
      ]
    },
    {
      "cell_type": "code",
      "metadata": {
        "colab": {
          "base_uri": "https://localhost:8080/"
        },
        "id": "K9C5h-o1W69x",
        "outputId": "78010e47-7196-4893-b89d-6cb884d9eb0f"
      },
      "source": [
        "from keras.preprocessing.image import ImageDataGenerator\n",
        "from keras.models import Sequential\n",
        "from keras.layers import Dense, Dropout\n",
        "from keras.optimizers import RMSprop\n",
        "from keras.layers import Dense, Dropout, Flatten\n",
        "from keras.layers import Conv2D, MaxPooling2D\n",
        "from keras.optimizers import Adam\n",
        "from keras import backend as K\n",
        "from keras.callbacks import EarlyStopping\n",
        "from keras.layers import BatchNormalization\n",
        "import keras\n",
        "import matplotlib.pyplot as plt\n",
        "from time import time\n",
        "\n",
        "\n",
        "# DATA SOURCE --------------------------------------------------\n",
        "\n",
        "batch_size = 64\n",
        "img_size = 256\n",
        "\n",
        "train_data_dir = '/content/gdrive/MyDrive/flowers/train'\n",
        "validation_data_dir = '/content/gdrive/MyDrive/flowers/validation'\n",
        "train_datagen = ImageDataGenerator(\n",
        "        featurewise_center=False,  # set input mean to 0 over the dataset\n",
        "        samplewise_center=False,  # set each sample mean to 0\n",
        "        featurewise_std_normalization=False,  # divide inputs by std of the dataset\n",
        "        samplewise_std_normalization=False,  # divide each input by its std\n",
        "        zca_whitening=False,  # apply ZCA whitening\n",
        "        rotation_range=10,  # randomly rotate images in the range (degrees, 0 to 180)\n",
        "        zoom_range = 0.1, # Randomly zoom image \n",
        "        width_shift_range=0.2,  # randomly shift images horizontally (fraction of total width)\n",
        "        height_shift_range=0.2,  # randomly shift images vertically (fraction of total height)\n",
        "        horizontal_flip=True,  # randomly flip images\n",
        "        vertical_flip=False,\n",
        "        rescale = 1./255\n",
        ")\n",
        "\n",
        "validation_datagen = ImageDataGenerator(\n",
        "        rescale=1./255,\n",
        ")\n",
        "\n",
        "train_generator = train_datagen.flow_from_directory(\n",
        "        train_data_dir,\n",
        "        batch_size=batch_size,\n",
        "        target_size=(img_size, img_size),\n",
        "        class_mode='categorical')\n",
        "\n",
        "validation_generator = validation_datagen.flow_from_directory(\n",
        "        validation_data_dir,\n",
        "        batch_size=batch_size,\n",
        "        target_size=(img_size, img_size),\n",
        "        class_mode='categorical')\n",
        "\n",
        "classes = train_generator.class_indices\n",
        "\n",
        "print(classes)\n"
      ],
      "execution_count": null,
      "outputs": [
        {
          "output_type": "stream",
          "text": [
            "Found 2896 images belonging to 5 classes.\n",
            "Found 1427 images belonging to 5 classes.\n",
            "{'daisy': 0, 'dandelion': 1, 'rose': 2, 'sunflower': 3, 'tulip': 4}\n"
          ],
          "name": "stdout"
        }
      ]
    },
    {
      "cell_type": "markdown",
      "metadata": {
        "id": "WOwjNBBlpk6b"
      },
      "source": [
        "Luego creamos, compilamos, entrenamos y guardamos el modelo. También generamos un gráfico con la función de pérdida y la precisión del modelo en el entrenamiento:"
      ]
    },
    {
      "cell_type": "code",
      "metadata": {
        "id": "G8kgGncKXs03",
        "colab": {
          "base_uri": "https://localhost:8080/",
          "height": 1000
        },
        "outputId": "f40ef51e-c986-4ccb-ac2f-f2ddd42bef15"
      },
      "source": [
        "# MODEL --------------------------------------------------\n",
        "\n",
        "model = Sequential()\n",
        "model.add(Conv2D(32, kernel_size=(3, 3),\n",
        "                 activation='relu',\n",
        "                 input_shape=(img_size, img_size, 3)))\n",
        "model.add(MaxPooling2D(pool_size=(2, 2)))\n",
        "model.add(Conv2D(64, (3, 3), activation='relu'))\n",
        "model.add(MaxPooling2D(pool_size=(2, 2)))\n",
        "model.add(Conv2D(96, (3, 3), activation='relu'))\n",
        "model.add(MaxPooling2D(pool_size=(2, 2)))\n",
        "model.add(Conv2D(96, (3, 3), activation='relu'))\n",
        "model.add(MaxPooling2D(pool_size=(2, 2)))\n",
        "model.add(Dropout(0.25))\n",
        "model.add(Flatten())\n",
        "model.add(Dense(512, activation='relu'))\n",
        "model.add(Dropout(0.5))\n",
        "model.add(Dense(5, activation='softmax'))\n",
        "model.compile(loss=keras.losses.categorical_crossentropy,\n",
        "              optimizer=Adam(learning_rate=0.001),\n",
        "              metrics=['accuracy'])\n",
        "\n",
        "\n",
        "# TRAINING --------------------------------------------------\n",
        "\n",
        "epochs = 80\n",
        "\n",
        "es = EarlyStopping(monitor='val_accuracy', mode='max', verbose=1, patience=6, restore_best_weights=True)\n",
        "\n",
        "history = model.fit(\n",
        "        train_generator,\n",
        "        epochs=epochs,\n",
        "        validation_data = validation_generator,\n",
        "        workers = 12,\n",
        "        callbacks = [es]\n",
        ")\n",
        "\n",
        "plt.plot(history.history['accuracy'])\n",
        "plt.plot(history.history['loss'])\n",
        "plt.title('Entrenamiento')\n",
        "plt.xlabel('epoch')\n",
        "plt.legend(['accuracy', 'loss'], loc='upper left')\n",
        "plt.show()\n",
        "\n",
        "# SAVING --------------------------------------------------\n",
        "\n",
        "model.save(\"flowerClassifier.h5\")"
      ],
      "execution_count": null,
      "outputs": [
        {
          "output_type": "stream",
          "text": [
            "Epoch 1/80\n",
            "46/46 [==============================] - 176s 2s/step - loss: 1.6177 - accuracy: 0.2800 - val_loss: 1.2051 - val_accuracy: 0.4898\n",
            "Epoch 2/80\n",
            "46/46 [==============================] - 48s 865ms/step - loss: 1.1920 - accuracy: 0.5018 - val_loss: 1.0822 - val_accuracy: 0.5830\n",
            "Epoch 3/80\n",
            "46/46 [==============================] - 48s 857ms/step - loss: 1.0915 - accuracy: 0.5540 - val_loss: 0.9989 - val_accuracy: 0.6181\n",
            "Epoch 4/80\n",
            "46/46 [==============================] - 48s 861ms/step - loss: 0.9997 - accuracy: 0.6061 - val_loss: 0.9570 - val_accuracy: 0.6279\n",
            "Epoch 5/80\n",
            "46/46 [==============================] - 56s 1s/step - loss: 0.9956 - accuracy: 0.5964 - val_loss: 0.8836 - val_accuracy: 0.6503\n",
            "Epoch 6/80\n",
            "46/46 [==============================] - 47s 867ms/step - loss: 0.9478 - accuracy: 0.6215 - val_loss: 0.8721 - val_accuracy: 0.6706\n",
            "Epoch 7/80\n",
            "46/46 [==============================] - 48s 858ms/step - loss: 0.8858 - accuracy: 0.6573 - val_loss: 0.8385 - val_accuracy: 0.6847\n",
            "Epoch 8/80\n",
            "46/46 [==============================] - 47s 839ms/step - loss: 0.8349 - accuracy: 0.6829 - val_loss: 0.8078 - val_accuracy: 0.7022\n",
            "Epoch 9/80\n",
            "46/46 [==============================] - 48s 870ms/step - loss: 0.8501 - accuracy: 0.6669 - val_loss: 0.8274 - val_accuracy: 0.6854\n",
            "Epoch 10/80\n",
            "46/46 [==============================] - 47s 839ms/step - loss: 0.7829 - accuracy: 0.6971 - val_loss: 0.7530 - val_accuracy: 0.7190\n",
            "Epoch 11/80\n",
            "46/46 [==============================] - 48s 861ms/step - loss: 0.7944 - accuracy: 0.6869 - val_loss: 0.8370 - val_accuracy: 0.6959\n",
            "Epoch 12/80\n",
            "46/46 [==============================] - 48s 878ms/step - loss: 0.7861 - accuracy: 0.6876 - val_loss: 0.7955 - val_accuracy: 0.7029\n",
            "Epoch 13/80\n",
            "46/46 [==============================] - 48s 866ms/step - loss: 0.7476 - accuracy: 0.7146 - val_loss: 0.7702 - val_accuracy: 0.7155\n",
            "Epoch 14/80\n",
            "46/46 [==============================] - 49s 869ms/step - loss: 0.7060 - accuracy: 0.7184 - val_loss: 0.7458 - val_accuracy: 0.7267\n",
            "Epoch 15/80\n",
            "46/46 [==============================] - 48s 854ms/step - loss: 0.6977 - accuracy: 0.7420 - val_loss: 0.8802 - val_accuracy: 0.6952\n",
            "Epoch 16/80\n",
            "46/46 [==============================] - 48s 864ms/step - loss: 0.6647 - accuracy: 0.7493 - val_loss: 0.7218 - val_accuracy: 0.7323\n",
            "Epoch 17/80\n",
            "46/46 [==============================] - 48s 862ms/step - loss: 0.6790 - accuracy: 0.7394 - val_loss: 0.7326 - val_accuracy: 0.7337\n",
            "Epoch 18/80\n",
            "46/46 [==============================] - 49s 867ms/step - loss: 0.6280 - accuracy: 0.7783 - val_loss: 0.7660 - val_accuracy: 0.7358\n",
            "Epoch 19/80\n",
            "46/46 [==============================] - 49s 877ms/step - loss: 0.6359 - accuracy: 0.7506 - val_loss: 0.7447 - val_accuracy: 0.7379\n",
            "Epoch 20/80\n",
            "46/46 [==============================] - 49s 905ms/step - loss: 0.6132 - accuracy: 0.7718 - val_loss: 0.7343 - val_accuracy: 0.7414\n",
            "Epoch 21/80\n",
            "46/46 [==============================] - 48s 868ms/step - loss: 0.5931 - accuracy: 0.7774 - val_loss: 0.7778 - val_accuracy: 0.7288\n",
            "Epoch 22/80\n",
            "46/46 [==============================] - 49s 890ms/step - loss: 0.5745 - accuracy: 0.7884 - val_loss: 0.6227 - val_accuracy: 0.7715\n",
            "Epoch 23/80\n",
            "46/46 [==============================] - 49s 884ms/step - loss: 0.5825 - accuracy: 0.7829 - val_loss: 0.7327 - val_accuracy: 0.7421\n",
            "Epoch 24/80\n",
            "46/46 [==============================] - 49s 888ms/step - loss: 0.5329 - accuracy: 0.7916 - val_loss: 0.7205 - val_accuracy: 0.7358\n",
            "Epoch 25/80\n",
            "46/46 [==============================] - 50s 918ms/step - loss: 0.5972 - accuracy: 0.7811 - val_loss: 0.7005 - val_accuracy: 0.7666\n",
            "Epoch 26/80\n",
            "46/46 [==============================] - 51s 912ms/step - loss: 0.5609 - accuracy: 0.8023 - val_loss: 0.7621 - val_accuracy: 0.7428\n",
            "Epoch 27/80\n",
            "46/46 [==============================] - 50s 887ms/step - loss: 0.5463 - accuracy: 0.7954 - val_loss: 0.7479 - val_accuracy: 0.7428\n",
            "Epoch 28/80\n",
            "46/46 [==============================] - 51s 913ms/step - loss: 0.5140 - accuracy: 0.8044 - val_loss: 0.6660 - val_accuracy: 0.7694\n",
            "Restoring model weights from the end of the best epoch.\n",
            "Epoch 00028: early stopping\n"
          ],
          "name": "stdout"
        },
        {
          "output_type": "display_data",
          "data": {
            "image/png": "[encoded data removed]",
            "text/plain": [
              "<Figure size 432x288 with 1 Axes>"
            ]
          },
          "metadata": {
            "tags": [],
            "needs_background": "light"
          }
        }
      ]
    },
    {
      "cell_type": "markdown",
      "metadata": {
        "id": "NRxq-xbSqHQk"
      },
      "source": [
        "Finalmente cargamos el modelo, para que la celda sea independiente al entrenamiento si así se desea, y generamos la matriz de confusión.  \n",
        "Los resultados son bastante buenos, como cabía esperar."
      ]
    },
    {
      "cell_type": "code",
      "metadata": {
        "colab": {
          "base_uri": "https://localhost:8080/",
          "height": 312
        },
        "id": "rHbypkBFXIoT",
        "outputId": "ae4a0b37-61de-4162-9dd6-2351c969f75f"
      },
      "source": [
        "from sklearn.metrics import confusion_matrix\n",
        "from keras.models import load_model\n",
        "from numpy import argmax\n",
        "import matplotlib.pyplot as plt\n",
        "\n",
        "classes = ['daisy', 'dandelion', 'rose', 'sunflower', 'tulip']\n",
        "model = load_model(\"/content/gdrive/MyDrive/flowers/flowerClassifier.h5\")\n",
        "\n",
        "validation_generator = validation_datagen.flow_from_directory(\n",
        "        validation_data_dir,\n",
        "        batch_size=1,\n",
        "        target_size=(img_size, img_size),\n",
        "        class_mode='categorical',\n",
        "        shuffle=False)\n",
        "\n",
        "prediction = model.predict(\n",
        "    validation_generator, \n",
        "    steps=len(validation_generator.filenames))\n",
        "y_pred = argmax(prediction, axis=1)\n",
        "\n",
        "cm = confusion_matrix(validation_generator.classes, y_pred)\n",
        "\n",
        "plt.imshow(cm, cmap=plt.cm.Blues)\n",
        "plt.xlabel(\"Etiquetas Predichas\")\n",
        "plt.ylabel(\"Etiquetas Verdaderas\")\n",
        "plt.xticks([0,1,2,3,4], classes)\n",
        "plt.yticks([0,1,2,3,4], classes)\n",
        "plt.title('Matriz de confusión')\n",
        "plt.colorbar()\n",
        "plt.show()"
      ],
      "execution_count": null,
      "outputs": [
        {
          "output_type": "stream",
          "text": [
            "Found 1427 images belonging to 5 classes.\n"
          ],
          "name": "stdout"
        },
        {
          "output_type": "display_data",
          "data": {
            "image/png": "[encoded data removed]",
            "text/plain": [
              "<Figure size 432x288 with 2 Axes>"
            ]
          },
          "metadata": {
            "tags": [],
            "needs_background": "light"
          }
        }
      ]
    }
  ]
}